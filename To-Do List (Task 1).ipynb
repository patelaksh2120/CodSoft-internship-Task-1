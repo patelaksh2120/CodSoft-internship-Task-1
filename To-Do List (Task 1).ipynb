{
 "cells": [
  {
   "cell_type": "markdown",
   "id": "b5f93697",
   "metadata": {},
   "source": [
    "# To-Do List"
   ]
  },
  {
   "cell_type": "code",
   "execution_count": 10,
   "id": "de044af5",
   "metadata": {},
   "outputs": [],
   "source": [
    "from tkinter import *\n",
    "import tkinter.messagebox\n",
    "def add_task():\n",
    "    global entry_task  \n",
    "    input_text = entry_task.get(1.0, \"end-1c\")\n",
    "    if input_text == \"\":\n",
    "        tkinter.messagebox.showwarning(title=\"Warning!\", message=\"Empty task list! Let's fill it with important to-dos\")\n",
    "    else:\n",
    "        listbox_task.insert(END, input_text)\n",
    "        root_add_task.destroy()\n",
    "        \n",
    "        \n",
    "def enter_task():\n",
    "    global entry_task, root_add_task\n",
    "    root_add_task = Tk()\n",
    "    root_add_task.title(\"Add your task here\")\n",
    "    \n",
    "    entry_task = Text(root_add_task, width=65, height=20)\n",
    "    entry_task.pack()\n",
    "    \n",
    "    button_add_task = Button(root_add_task, text=\"Add your task\", command=add_task)\n",
    "    button_add_task.pack()\n",
    "    \n",
    "    root_add_task.mainloop()\n",
    "\n",
    "    \n",
    "def delete_task():\n",
    "    selected = listbox_task.curselection()\n",
    "    if selected:\n",
    "        listbox_task.delete(selected[0])\n",
    "        \n",
    "        \n",
    "def mark_completed():\n",
    "    selected = listbox_task.curselection()\n",
    "    if selected:\n",
    "        temp_index = selected[0]\n",
    "        temp_text = listbox_task.get(temp_index)\n",
    "        updated_text = temp_text + \"✔️ Task complated\"\n",
    "        listbox_task.delete(temp_index)\n",
    "        listbox_task.insert(temp_index, updated_text)\n",
    "        \n",
    "        \n",
    "window = Tk()\n",
    "window.title(\"To-Do List\")\n",
    "frame_task = Frame(window)\n",
    "frame_task.pack()\n",
    "\n",
    "listbox_task = Listbox(frame_task, bg=\"blue\", fg=\"white\", height=20, width=50,font=\"font\")\n",
    "listbox_task.pack(side=RIGHT)\n",
    "scrollbar_task = Scrollbar(frame_task)\n",
    "scrollbar_task.pack(side=RIGHT, fill=Y)\n",
    "listbox_task.config(yscrollcommand=scrollbar_task.set)\n",
    "scrollbar_task.config(command=listbox_task.yview)\n",
    "\n",
    "\n",
    "\n",
    "add_button = Button(window, text=\"Add Task\", width=25, command=enter_task)\n",
    "add_button.pack(pady=2)\n",
    "\n",
    "mark_button = Button(window, text=\"Completed Task\", width=25, command=mark_completed)\n",
    "mark_button.pack(pady=2)\n",
    "\n",
    "delete_button = Button(window, text=\"Delete Task\", width=25, command=delete_task)\n",
    "delete_button.pack(pady=2)\n",
    "\n",
    "window.mainloop()\n"
   ]
  }
 ],
 "metadata": {
  "kernelspec": {
   "display_name": "Python 3 (ipykernel)",
   "language": "python",
   "name": "python3"
  },
  "language_info": {
   "codemirror_mode": {
    "name": "ipython",
    "version": 3
   },
   "file_extension": ".py",
   "mimetype": "text/x-python",
   "name": "python",
   "nbconvert_exporter": "python",
   "pygments_lexer": "ipython3",
   "version": "3.9.12"
  }
 },
 "nbformat": 4,
 "nbformat_minor": 5
}
